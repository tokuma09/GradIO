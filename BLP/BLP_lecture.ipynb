{
 "cells": [
  {
   "cell_type": "code",
   "execution_count": 1,
   "metadata": {},
   "outputs": [],
   "source": [
    "import numpy as np\n",
    "import pandas as pd\n",
    "import matplotlib.pyplot as plt\n",
    "import matplotlib as mpl\n",
    "%matplotlib inline\n",
    "plt.style.use(\"ggplot\")\n",
    "plt.rcParams[\"font.size\"] = 13\n",
    "mpl.rcParams[\"font.family\"] = \"Osaka\"\n",
    "np.random.seed(seed=1)"
   ]
  },
  {
   "cell_type": "markdown",
   "metadata": {},
   "source": [
    "# Data Preprocessing"
   ]
  },
  {
   "cell_type": "code",
   "execution_count": 2,
   "metadata": {},
   "outputs": [
    {
     "data": {
      "text/html": [
       "<div>\n",
       "<style scoped>\n",
       "    .dataframe tbody tr th:only-of-type {\n",
       "        vertical-align: middle;\n",
       "    }\n",
       "\n",
       "    .dataframe tbody tr th {\n",
       "        vertical-align: top;\n",
       "    }\n",
       "\n",
       "    .dataframe thead th {\n",
       "        text-align: right;\n",
       "    }\n",
       "</style>\n",
       "<table border=\"1\" class=\"dataframe\">\n",
       "  <thead>\n",
       "    <tr style=\"text-align: right;\">\n",
       "      <th></th>\n",
       "      <th>price</th>\n",
       "      <th>quantity</th>\n",
       "      <th>weight</th>\n",
       "      <th>horsepower</th>\n",
       "      <th>airconditioner</th>\n",
       "      <th>ownership</th>\n",
       "    </tr>\n",
       "  </thead>\n",
       "  <tbody>\n",
       "    <tr>\n",
       "      <th>0</th>\n",
       "      <td>6488</td>\n",
       "      <td>90808</td>\n",
       "      <td>2020</td>\n",
       "      <td>78</td>\n",
       "      <td>0</td>\n",
       "      <td>1</td>\n",
       "    </tr>\n",
       "    <tr>\n",
       "      <th>1</th>\n",
       "      <td>8748</td>\n",
       "      <td>228211</td>\n",
       "      <td>2390</td>\n",
       "      <td>102</td>\n",
       "      <td>0</td>\n",
       "      <td>1</td>\n",
       "    </tr>\n",
       "    <tr>\n",
       "      <th>2</th>\n",
       "      <td>11588</td>\n",
       "      <td>284595</td>\n",
       "      <td>2690</td>\n",
       "      <td>115</td>\n",
       "      <td>0</td>\n",
       "      <td>1</td>\n",
       "    </tr>\n",
       "    <tr>\n",
       "      <th>3</th>\n",
       "      <td>12268</td>\n",
       "      <td>78521</td>\n",
       "      <td>2500</td>\n",
       "      <td>103</td>\n",
       "      <td>0</td>\n",
       "      <td>1</td>\n",
       "    </tr>\n",
       "    <tr>\n",
       "      <th>4</th>\n",
       "      <td>14898</td>\n",
       "      <td>14257</td>\n",
       "      <td>2599</td>\n",
       "      <td>130</td>\n",
       "      <td>0</td>\n",
       "      <td>1</td>\n",
       "    </tr>\n",
       "  </tbody>\n",
       "</table>\n",
       "</div>"
      ],
      "text/plain": [
       "   price  quantity  weight  horsepower  airconditioner  ownership\n",
       "0   6488     90808    2020          78               0          1\n",
       "1   8748    228211    2390         102               0          1\n",
       "2  11588    284595    2690         115               0          1\n",
       "3  12268     78521    2500         103               0          1\n",
       "4  14898     14257    2599         130               0          1"
      ]
     },
     "execution_count": 2,
     "metadata": {},
     "output_type": "execute_result"
    }
   ],
   "source": [
    "# read and rename data \n",
    "df = pd.read_csv(\"AggDemand.csv\", header = None)\n",
    "df.columns = [\"price\", \"quantity\",\"weight\", \"horsepower\", \"airconditioner\", \"ownership\"] \n",
    "df.head()"
   ]
  },
  {
   "cell_type": "code",
   "execution_count": 3,
   "metadata": {},
   "outputs": [],
   "source": [
    "# define variables\n",
    "p = np.log(df[\"price\"].values)\n",
    "q = df[\"quantity\"].values\n",
    "num = len(df)\n",
    "\n",
    "# explanatory variables\n",
    "x = np.stack([np.ones(num), \n",
    "              np.log(df[\"weight\"].values),\n",
    "              np.log(df[\"horsepower\"].values),\n",
    "              df[\"airconditioner\"].values],\n",
    "              axis = 1)"
   ]
  },
  {
   "cell_type": "code",
   "execution_count": 4,
   "metadata": {},
   "outputs": [],
   "source": [
    "#  Define market share and num of consumers\n",
    "MS = 50000000 # total market\n",
    "ns = 1000 # num of consumers\n",
    "s0 = (MS - np.sum(q))/MS # market share of outside option\n",
    "sj = q/MS # market share of each goods"
   ]
  },
  {
   "cell_type": "code",
   "execution_count": 5,
   "metadata": {},
   "outputs": [],
   "source": [
    "# Berry's inversion\n",
    "# see slides\n",
    "delta = np.log(sj) - np.log(s0) # \\delta =y = X'B"
   ]
  },
  {
   "cell_type": "markdown",
   "metadata": {},
   "source": [
    "# OLS "
   ]
  },
  {
   "cell_type": "code",
   "execution_count": 6,
   "metadata": {},
   "outputs": [
    {
     "name": "stdout",
     "output_type": "stream",
     "text": [
      "21 µs ± 526 ns per loop (mean ± std. dev. of 7 runs, 10000 loops each)\n"
     ]
    },
    {
     "data": {
      "text/plain": [
       "array([-24.25106987,   3.28942105,  -1.77117311,  -0.91423405])"
      ]
     },
     "execution_count": 6,
     "metadata": {},
     "output_type": "execute_result"
    }
   ],
   "source": [
    "# analytical solution\n",
    "%timeit np.dot(np.dot(np.linalg.inv(np.dot(x.T, x)), x.T), delta)\n",
    "np.dot(np.dot(np.linalg.inv(np.dot(x.T, x)), x.T), delta)"
   ]
  },
  {
   "cell_type": "code",
   "execution_count": 7,
   "metadata": {},
   "outputs": [
    {
     "name": "stdout",
     "output_type": "stream",
     "text": [
      "11.3 µs ± 75.2 ns per loop (mean ± std. dev. of 7 runs, 100000 loops each)\n"
     ]
    },
    {
     "data": {
      "text/plain": [
       "array([-24.25106987,   3.28942105,  -1.77117311,  -0.91423405])"
      ]
     },
     "execution_count": 7,
     "metadata": {},
     "output_type": "execute_result"
    }
   ],
   "source": [
    "# Another solution method provides same solution and faster \n",
    "%timeit  np.linalg.solve(np.dot(x.T, x), np.dot(x.T, delta))\n",
    "np.linalg.solve(np.dot(x.T, x), np.dot(x.T, delta))"
   ]
  },
  {
   "cell_type": "markdown",
   "metadata": {},
   "source": [
    "# BLP"
   ]
  },
  {
   "cell_type": "code",
   "execution_count": 8,
   "metadata": {},
   "outputs": [],
   "source": [
    "# initial guess\n",
    "delta_init =  np.log(sj) - np.log(s0)\n",
    "# coefficients\n",
    "sigma =np.array((0.5, 0.5))"
   ]
  },
  {
   "cell_type": "code",
   "execution_count": 9,
   "metadata": {},
   "outputs": [],
   "source": [
    "nu = np.random.randn(ns,2)\n",
    "nu = nu * sigma # For vectorization"
   ]
  },
  {
   "cell_type": "code",
   "execution_count": 10,
   "metadata": {},
   "outputs": [],
   "source": [
    "mu_mat = np.dot(x[:,1:3],  nu.T)"
   ]
  },
  {
   "cell_type": "code",
   "execution_count": 11,
   "metadata": {},
   "outputs": [
    {
     "data": {
      "text/plain": [
       "(128, 1000)"
      ]
     },
     "execution_count": 11,
     "metadata": {},
     "output_type": "execute_result"
    }
   ],
   "source": [
    "delta_mat = np.tile(delta_init, (ns, 1)).T\n",
    "delta_mat.shape"
   ]
  },
  {
   "cell_type": "code",
   "execution_count": 12,
   "metadata": {},
   "outputs": [],
   "source": [
    "exp_util = np.exp(delta_mat + mu_mat)"
   ]
  },
  {
   "cell_type": "code",
   "execution_count": 13,
   "metadata": {},
   "outputs": [],
   "source": [
    "denom = np.sum(exp_util, axis = 0)  + 1 "
   ]
  },
  {
   "cell_type": "code",
   "execution_count": 14,
   "metadata": {},
   "outputs": [],
   "source": [
    "choiceprob = exp_util/denom"
   ]
  },
  {
   "cell_type": "code",
   "execution_count": 15,
   "metadata": {},
   "outputs": [],
   "source": [
    "PredMS = (1/ns) * np.sum(choiceprob, axis= 1)"
   ]
  },
  {
   "cell_type": "code",
   "execution_count": 16,
   "metadata": {},
   "outputs": [],
   "source": [
    "delta_update = delta_init + np.log(sj) - np.log(PredMS)"
   ]
  },
  {
   "cell_type": "code",
   "execution_count": 17,
   "metadata": {},
   "outputs": [],
   "source": [
    "# iteration settings\n",
    "max_iter = 100000\n",
    "tol = 1e-6"
   ]
  },
  {
   "cell_type": "code",
   "execution_count": 18,
   "metadata": {},
   "outputs": [],
   "source": [
    "# Contraction mapping\n",
    "for i in range(max_iter):\n",
    "    \n",
    "    delta_init = delta_update\n",
    "    \n",
    "    delta_mat = np.tile(delta_init, (ns, 1)).T\n",
    "\n",
    "    exp_util = np.exp(delta_mat + mu_mat)\n",
    "    denom = np.sum(exp_util, axis = 0)  + 1 \n",
    "    choiceprob = exp_util/denom\n",
    "    \n",
    "    dist = delta_update - delta_init\n",
    "    PredMS = (1/ns) * np.sum(choiceprob, axis= 1)\n",
    "    \n",
    "    delta_update = delta_init + np.log(sj) - np.log(PredMS)\n",
    "    err = (delta_update - delta_init)\n",
    "    err2 = np.dot(err, err)\n",
    "    if err2 < tol:\n",
    "        break\n",
    "    \n",
    "    if i == max_iter -1:\n",
    "        print(\"Iteration doesn't converge...\")"
   ]
  },
  {
   "cell_type": "markdown",
   "metadata": {},
   "source": [
    "# Check solution"
   ]
  },
  {
   "cell_type": "code",
   "execution_count": 19,
   "metadata": {},
   "outputs": [
    {
     "data": {
      "text/html": [
       "<div>\n",
       "<style scoped>\n",
       "    .dataframe tbody tr th:only-of-type {\n",
       "        vertical-align: middle;\n",
       "    }\n",
       "\n",
       "    .dataframe tbody tr th {\n",
       "        vertical-align: top;\n",
       "    }\n",
       "\n",
       "    .dataframe thead th {\n",
       "        text-align: right;\n",
       "    }\n",
       "</style>\n",
       "<table border=\"1\" class=\"dataframe\">\n",
       "  <thead>\n",
       "    <tr style=\"text-align: right;\">\n",
       "      <th></th>\n",
       "      <th>0</th>\n",
       "      <th>1</th>\n",
       "    </tr>\n",
       "  </thead>\n",
       "  <tbody>\n",
       "    <tr>\n",
       "      <th>0</th>\n",
       "      <td>0.001816</td>\n",
       "      <td>0.001816</td>\n",
       "    </tr>\n",
       "    <tr>\n",
       "      <th>1</th>\n",
       "      <td>0.004565</td>\n",
       "      <td>0.004564</td>\n",
       "    </tr>\n",
       "    <tr>\n",
       "      <th>2</th>\n",
       "      <td>0.005692</td>\n",
       "      <td>0.005692</td>\n",
       "    </tr>\n",
       "    <tr>\n",
       "      <th>3</th>\n",
       "      <td>0.001571</td>\n",
       "      <td>0.001570</td>\n",
       "    </tr>\n",
       "    <tr>\n",
       "      <th>4</th>\n",
       "      <td>0.000285</td>\n",
       "      <td>0.000285</td>\n",
       "    </tr>\n",
       "  </tbody>\n",
       "</table>\n",
       "</div>"
      ],
      "text/plain": [
       "          0         1\n",
       "0  0.001816  0.001816\n",
       "1  0.004565  0.004564\n",
       "2  0.005692  0.005692\n",
       "3  0.001571  0.001570\n",
       "4  0.000285  0.000285"
      ]
     },
     "execution_count": 19,
     "metadata": {},
     "output_type": "execute_result"
    }
   ],
   "source": [
    "ans = np.stack([PredMS,\n",
    "               sj], axis=1)\n",
    "pd.DataFrame(ans).head()"
   ]
  }
 ],
 "metadata": {
  "kernelspec": {
   "display_name": "Python 3",
   "language": "python",
   "name": "python3"
  },
  "language_info": {
   "codemirror_mode": {
    "name": "ipython",
    "version": 3
   },
   "file_extension": ".py",
   "mimetype": "text/x-python",
   "name": "python",
   "nbconvert_exporter": "python",
   "pygments_lexer": "ipython3",
   "version": "3.6.7"
  }
 },
 "nbformat": 4,
 "nbformat_minor": 2
}
